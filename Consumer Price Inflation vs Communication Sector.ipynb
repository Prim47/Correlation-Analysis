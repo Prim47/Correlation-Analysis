{
 "cells": [
  {
   "cell_type": "code",
   "execution_count": 1,
   "metadata": {
    "collapsed": true
   },
   "outputs": [],
   "source": [
    "import os\n",
    "import pandas as pd\n",
    "from scipy.stats import linregress"
   ]
  },
  {
   "cell_type": "code",
   "execution_count": 2,
   "metadata": {
    "collapsed": true
   },
   "outputs": [],
   "source": [
    "# Annual average of Consumer Price Inflation of all sectors vs communication sector: 2011 - 2017\n",
    "cpih_all = os.path.join('C:/Users/prim1/Desktop/SpuriousCorrelations/consumer_price_inflation_all_items.csv')\n",
    "cpih_communication = os.path.join('C:/Users/prim1/Desktop/SpuriousCorrelations/consumer_price_inflation_communication.csv')"
   ]
  },
  {
   "cell_type": "code",
   "execution_count": 3,
   "metadata": {
    "collapsed": true
   },
   "outputs": [],
   "source": [
    "# convert column to list\n",
    "def data_frame(filename):\n",
    "    raw_data = pd.read_csv(filename)\n",
    "    df = raw_data['value'].tolist()\n",
    "    return df"
   ]
  },
  {
   "cell_type": "code",
   "execution_count": 4,
   "metadata": {},
   "outputs": [
    {
     "name": "stdout",
     "output_type": "stream",
     "text": [
      "LinregressResult(slope=1.4115377871295816, intercept=-41.140592670524342, rvalue=0.98984384048660878, pvalue=1.9856861658449552e-05, stderr=0.090659866637849792)\n"
     ]
    }
   ],
   "source": [
    "def clean_data(args, kwargs):\n",
    "    print(linregress(args, kwargs))\n",
    "\n",
    "clean_data(data_frame(cpih_all), data_frame(cpih_communication))"
   ]
  }
 ],
 "metadata": {
  "kernelspec": {
   "display_name": "Python 3",
   "language": "python",
   "name": "python3"
  },
  "language_info": {
   "codemirror_mode": {
    "name": "ipython",
    "version": 3
   },
   "file_extension": ".py",
   "mimetype": "text/x-python",
   "name": "python",
   "nbconvert_exporter": "python",
   "pygments_lexer": "ipython3",
   "version": "3.6.3"
  }
 },
 "nbformat": 4,
 "nbformat_minor": 2
}
